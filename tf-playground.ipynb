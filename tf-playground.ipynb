{
 "metadata": {
  "language_info": {
   "codemirror_mode": {
    "name": "ipython",
    "version": 3
   },
   "file_extension": ".py",
   "mimetype": "text/x-python",
   "name": "python",
   "nbconvert_exporter": "python",
   "pygments_lexer": "ipython3",
   "version": 3
  },
  "orig_nbformat": 2,
  "kernelspec": {
   "name": "python_defaultSpec_1596481791014",
   "display_name": "Python 3.7.7 64-bit ('tf2': conda)"
  }
 },
 "nbformat": 4,
 "nbformat_minor": 2,
 "cells": [
  {
   "cell_type": "code",
   "execution_count": 1,
   "metadata": {},
   "outputs": [],
   "source": [
    "import numpy as np\n",
    "import matplotlib.pyplot as plt\n",
    "from tf2_basics.WindowSequence import WindowSequence"
   ]
  },
  {
   "cell_type": "code",
   "execution_count": 2,
   "metadata": {},
   "outputs": [],
   "source": [
    "N = 200000\n",
    "window_size = 150000\n",
    "stride = 24\n",
    "sequence = np.random.rand(N)\n",
    "# y = np.random.rand(N-window_size+1)\n",
    "y = np.random.rand(N)\n",
    "window_sequence = WindowSequence(sequence, y, window_size=window_size, stride=stride, batch_size=32, shuffle=True)"
   ]
  },
  {
   "cell_type": "code",
   "execution_count": 4,
   "metadata": {},
   "outputs": [
    {
     "output_type": "execute_result",
     "data": {
      "text/plain": "(200000,)"
     },
     "metadata": {},
     "execution_count": 4
    }
   ],
   "source": [
    "sequence.shape"
   ]
  },
  {
   "cell_type": "code",
   "execution_count": 5,
   "metadata": {},
   "outputs": [
    {
     "output_type": "execute_result",
     "data": {
      "text/plain": "(200000,)"
     },
     "metadata": {},
     "execution_count": 5
    }
   ],
   "source": [
    "y.shape"
   ]
  },
  {
   "cell_type": "code",
   "execution_count": 7,
   "metadata": {},
   "outputs": [
    {
     "output_type": "execute_result",
     "data": {
      "text/plain": "(50001,)"
     },
     "metadata": {},
     "execution_count": 7
    }
   ],
   "source": [
    "window_sequence.y.shape"
   ]
  },
  {
   "cell_type": "code",
   "execution_count": 3,
   "metadata": {
    "tags": []
   },
   "outputs": [
    {
     "output_type": "stream",
     "name": "stdout",
     "text": "[[0.70221516 0.57875008 0.17361513 ... 0.17953976 0.95658414 0.9567209 ]\n [0.27661401 0.00341657 0.01376281 ... 0.62914834 0.76532361 0.67334589]\n [0.18191715 0.74651363 0.67213941 ... 0.91672402 0.84679492 0.9647124 ]\n ...\n [0.06457677 0.24524859 0.40234797 ... 0.78648186 0.46692456 0.51413822]\n [0.73117778 0.16665069 0.65767434 ... 0.21748176 0.71241333 0.40315945]\n [0.20024857 0.00309559 0.73443624 ... 0.00923543 0.541782   0.74561956]]\n(32, 150000) (32, 1)\n"
    }
   ],
   "source": [
    "batch_x, batch_y = window_sequence.__getitem__(0)\n",
    "print(batch_x)\n",
    "print(batch_x.shape, batch_y.shape)"
   ]
  },
  {
   "cell_type": "code",
   "execution_count": 4,
   "metadata": {
    "tags": []
   },
   "outputs": [
    {
     "output_type": "stream",
     "name": "stdout",
     "text": "num_batches: 39\nleft_batch: 18\n"
    }
   ],
   "source": [
    "N = 1234\n",
    "batch_size = 32\n",
    "num_batches = N // batch_size + 1\n",
    "left_batch = N % batch_size\n",
    "print(f\"num_batches: {num_batches}\")\n",
    "print(f\"left_batch: {left_batch}\")"
   ]
  },
  {
   "cell_type": "code",
   "execution_count": 5,
   "metadata": {},
   "outputs": [],
   "source": [
    "a = np.array(np.arange(N))\n",
    "np.random.shuffle(a)"
   ]
  },
  {
   "cell_type": "code",
   "execution_count": 6,
   "metadata": {},
   "outputs": [
    {
     "output_type": "execute_result",
     "data": {
      "text/plain": "(1234,)"
     },
     "metadata": {},
     "execution_count": 6
    }
   ],
   "source": [
    "a.shape"
   ]
  },
  {
   "cell_type": "code",
   "execution_count": 7,
   "metadata": {},
   "outputs": [],
   "source": [
    "index = 38\n",
    "batch_a = a[index * batch_size:(index + 1) * batch_size]"
   ]
  },
  {
   "cell_type": "code",
   "execution_count": 8,
   "metadata": {},
   "outputs": [
    {
     "output_type": "execute_result",
     "data": {
      "text/plain": "(18,)"
     },
     "metadata": {},
     "execution_count": 8
    }
   ],
   "source": [
    "batch_a.shape"
   ]
  },
  {
   "cell_type": "code",
   "execution_count": 9,
   "metadata": {},
   "outputs": [],
   "source": [
    "batch_a1 = a[1000:1500]"
   ]
  },
  {
   "cell_type": "code",
   "execution_count": 10,
   "metadata": {},
   "outputs": [
    {
     "output_type": "execute_result",
     "data": {
      "text/plain": "(234,)"
     },
     "metadata": {},
     "execution_count": 10
    }
   ],
   "source": [
    "batch_a1.shape"
   ]
  },
  {
   "cell_type": "code",
   "execution_count": 11,
   "metadata": {},
   "outputs": [],
   "source": [
    "a_list = [_ for _ in range(N)]"
   ]
  },
  {
   "cell_type": "code",
   "execution_count": 12,
   "metadata": {},
   "outputs": [],
   "source": [
    "batch_a_list = a_list[1000:1500]"
   ]
  },
  {
   "cell_type": "code",
   "execution_count": 13,
   "metadata": {},
   "outputs": [
    {
     "output_type": "execute_result",
     "data": {
      "text/plain": "234"
     },
     "metadata": {},
     "execution_count": 13
    }
   ],
   "source": [
    "len(batch_a_list)"
   ]
  },
  {
   "cell_type": "code",
   "execution_count": null,
   "metadata": {},
   "outputs": [],
   "source": []
  }
 ]
}