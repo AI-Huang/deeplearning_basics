{
 "metadata": {
  "language_info": {
   "codemirror_mode": {
    "name": "ipython",
    "version": 3
   },
   "file_extension": ".py",
   "mimetype": "text/x-python",
   "name": "python",
   "nbconvert_exporter": "python",
   "pygments_lexer": "ipython3",
   "version": "3.8.4-final"
  },
  "orig_nbformat": 2,
  "kernelspec": {
   "name": "python_defaultSpec_1597426402344",
   "display_name": "Python 3.8.4 64-bit"
  }
 },
 "nbformat": 4,
 "nbformat_minor": 2,
 "cells": [
  {
   "cell_type": "code",
   "execution_count": 3,
   "metadata": {},
   "outputs": [],
   "source": [
    "import numpy as np"
   ]
  },
  {
   "cell_type": "markdown",
   "metadata": {},
   "source": [
    "## NumPy seed\n",
    "\n",
    "np.random() takes [MT19937](https://numpy.org/doc/stable/reference/random/legacy.html) as default RNG.\n",
    "\n",
    "If seed is not set, returned values will differ every time."
   ]
  },
  {
   "cell_type": "code",
   "execution_count": 23,
   "metadata": {},
   "outputs": [
    {
     "output_type": "execute_result",
     "data": {
      "text/plain": "array([51, 92, 14, 71, 60, 20, 82, 86, 74, 74, 87, 99, 23,  2, 21, 52,  1,\n       87, 29, 37])"
     },
     "metadata": {},
     "execution_count": 23
    }
   ],
   "source": [
    "np.random.seed(42)\n",
    "vals_np = np.random.randint(100, size=20)\n",
    "vals_np"
   ]
  },
  {
   "cell_type": "markdown",
   "metadata": {},
   "source": [
    "## NumPy applied for shuffle"
   ]
  },
  {
   "cell_type": "code",
   "execution_count": 49,
   "metadata": {
    "tags": []
   },
   "outputs": [
    {
     "output_type": "stream",
     "name": "stdout",
     "text": "[8 1 5 0 7 2 9 4 3 6]\n[8 1 5 0 7 2 9 4 3 6]\n"
    }
   ],
   "source": [
    "# Always remember to initialize the seed\n",
    "np.random.seed(42)\n",
    "N = 10\n",
    "x = np.arange(N) # [0, 1, 2,...,9]\n",
    "np.random.shuffle(x)\n",
    "print(x) # shuffle\n",
    "np.random.seed(42) # reset the seed\n",
    "print(np.random.permutation(N))"
   ]
  },
  {
   "cell_type": "code",
   "execution_count": 42,
   "metadata": {},
   "outputs": [
    {
     "output_type": "execute_result",
     "data": {
      "text/plain": "<torch._C.Generator at 0x1bf3cfe8690>"
     },
     "metadata": {},
     "execution_count": 42
    }
   ],
   "source": [
    "import torch"
   ]
  },
  {
   "cell_type": "code",
   "execution_count": 47,
   "metadata": {},
   "outputs": [
    {
     "output_type": "execute_result",
     "data": {
      "text/plain": "tensor([0.4963, 0.7682, 0.0885, 0.1320, 0.3074])"
     },
     "metadata": {},
     "execution_count": 47
    }
   ],
   "source": [
    "torch.manual_seed(0)\n",
    "torch.rand(5)"
   ]
  },
  {
   "cell_type": "code",
   "execution_count": null,
   "metadata": {},
   "outputs": [],
   "source": []
  },
  {
   "cell_type": "code",
   "execution_count": null,
   "metadata": {},
   "outputs": [],
   "source": []
  }
 ]
}