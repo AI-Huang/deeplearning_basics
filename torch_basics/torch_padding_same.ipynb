{
 "cells": [
  {
   "cell_type": "markdown",
   "source": [
    "## PyTorch Padding Same\n",
    "\n",
    "使用 PyTorch 实现 padding=\"same\"。"
   ],
   "metadata": {}
  },
  {
   "cell_type": "code",
   "execution_count": 53,
   "source": [
    "#!/usr/bin/env python3\n",
    "# -*- coding: utf-8 -*-\n",
    "# @Date    : Sep-29-21 20:17\n",
    "# @Author  : Kan HUANG (kan.huang@connect.ust.hk)\n",
    "# @RefLink : https://github.com/pytorch/pytorch/blob/1.7/torch/nn/modules/conv.py\n",
    "# @RefLink : https://www.tensorflow.org/api_docs/python/tf/keras/layers/Conv2D\n",
    "# @RefLink : https://oldpan.me/archives/pytorch-same-padding-tflike\n",
    "\n",
    "import numpy as np\n",
    "import torch\n",
    "import torch.nn.functional as F\n",
    "from torch.nn.common_types import _size_2_t\n",
    "from torch.nn.modules.utils import _pair\n",
    "from torch.nn.modules.conv import _ConvNd"
   ],
   "outputs": [],
   "metadata": {}
  },
  {
   "cell_type": "code",
   "execution_count": 59,
   "source": [
    "def conv2d_same_padding(input_, weight, bias=None, stride=1, padding=\"same\", dilation=1, groups=1):\n",
    "    \"\"\"conv2d_same_padding\n",
    "    Args:\n",
    "        padding: one of \"valid\" or \"same\" (case-insensitive). \n",
    "    实现 TensorFlow padding=\"same\" 的效果的 conv2d 函数\n",
    "    函数中padding参数可以无视，实际实现的是padding=same的效果\n",
    "    \"\"\"\n",
    "    if padding not in [\"same\", \"valid\"]:\n",
    "        raise ValueError(f\"\"\"padding: {padding} not in [\"same\", \"valid\"]\"\"\")\n",
    "\n",
    "    if padding == \"valid\":\n",
    "        output =  F.conv2d(input_, weight, bias, stride,\n",
    "                    padding=0,\n",
    "                    dilation=dilation, groups=groups)\n",
    "\n",
    "    elif padding == \"same\":\n",
    "        input_rows = input_.size(2)\n",
    "        filter_rows = weight.size(2)\n",
    "        effective_filter_size_rows = (filter_rows - 1) * dilation[0] + 1\n",
    "        \n",
    "        out_rows = (input_rows + stride[0] - 1) // stride[0]\n",
    "        padding_rows = max(0, (out_rows - 1) * stride[0] +\n",
    "                            (filter_rows - 1) * dilation[0] + 1 - input_rows)\n",
    "\n",
    "        rows_odd = (padding_rows % 2 != 0)\n",
    "        padding_cols = max(0, (out_rows - 1) * stride[0] +\n",
    "                            (filter_rows - 1) * dilation[0] + 1 - input_rows)\n",
    "        cols_odd = (padding_rows % 2 != 0)\n",
    "\n",
    "        if rows_odd or cols_odd:\n",
    "            input_ = F.pad(input_, [0, int(cols_odd), 0, int(rows_odd)])\n",
    "\n",
    "        output =  F.conv2d(input_, weight, bias, stride,\n",
    "                    padding=(padding_rows // 2, padding_cols // 2),\n",
    "                    dilation=dilation, groups=groups)\n",
    "\n",
    "    return output"
   ],
   "outputs": [],
   "metadata": {}
  },
  {
   "cell_type": "code",
   "execution_count": 60,
   "source": [
    "class Conv2dSamePadding(_ConvNd): \n",
    "    \"\"\"\n",
    "    Args:\n",
    "        padding: one of \"valid\" or \"same\" (case-insensitive). Refer to: https://www.tensorflow.org/api_docs/python/tf/keras/layers/Conv2D\n",
    "    \"\"\"\n",
    "    def __init__(\n",
    "        self,\n",
    "        in_channels: int,\n",
    "        out_channels: int,\n",
    "        kernel_size: _size_2_t,\n",
    "        stride: _size_2_t = 1,\n",
    "        # padding: _size_2_t = 0,\n",
    "        padding: str = 'valid',\n",
    "        dilation: _size_2_t = 1,\n",
    "        groups: int = 1,\n",
    "        bias: bool = True,\n",
    "        padding_mode: str = 'zeros',  # TODO: refine this type\n",
    "        device=None,\n",
    "        dtype=None\n",
    "    ) -> None:\n",
    "        # in later versions than 1.7\n",
    "        # factory_kwargs = {'device': device, 'dtype': dtype}\n",
    "        kernel_size_ = _pair(kernel_size)\n",
    "        stride_ = _pair(stride)\n",
    "        padding_ = padding if isinstance(padding, str) else _pair(padding)\n",
    "        dilation_ = _pair(dilation)\n",
    "        super(Conv2dSamePadding, self).__init__(\n",
    "            in_channels, out_channels, kernel_size_, stride_, padding_, dilation_,\n",
    "            False, _pair(0), groups, bias, padding_mode) # **factory_kwargs\n",
    "\n",
    "        self.padding = padding # Overwrite self.padding\n",
    "    \n",
    "    # 修改这里的实现函数\n",
    "    def forward(self, x):\n",
    "        return conv2d_same_padding(x, self.weight, self.bias, self.stride,\n",
    "                        self.padding, self.dilation, self.groups)"
   ],
   "outputs": [],
   "metadata": {}
  },
  {
   "cell_type": "code",
   "execution_count": 65,
   "source": [
    "conv2d_1 = Conv2dSamePadding(3,1,3,1, padding=\"same\")\n",
    "conv2d_2 = Conv2dSamePadding(3,1,3,1, padding=\"valid\")"
   ],
   "outputs": [],
   "metadata": {}
  },
  {
   "cell_type": "code",
   "execution_count": 66,
   "source": [
    "x = torch.from_numpy(np.random.rand(64, 3, 32, 32).astype(np.float32))\n",
    "out = conv2d_1(x)\n",
    "print(out.shape)\n",
    "out = conv2d_2(x)\n",
    "print(out.shape)"
   ],
   "outputs": [
    {
     "output_type": "stream",
     "name": "stdout",
     "text": [
      "torch.Size([64, 1, 32, 32])\n",
      "torch.Size([64, 1, 30, 30])\n"
     ]
    }
   ],
   "metadata": {}
  },
  {
   "cell_type": "code",
   "execution_count": null,
   "source": [],
   "outputs": [],
   "metadata": {}
  }
 ],
 "metadata": {
  "orig_nbformat": 4,
  "language_info": {
   "name": "python",
   "version": "3.7.9",
   "mimetype": "text/x-python",
   "codemirror_mode": {
    "name": "ipython",
    "version": 3
   },
   "pygments_lexer": "ipython3",
   "nbconvert_exporter": "python",
   "file_extension": ".py"
  },
  "kernelspec": {
   "name": "python3",
   "display_name": "Python 3.7.9 64-bit ('torch': conda)"
  },
  "interpreter": {
   "hash": "fd47d156357233a90b4b9e1ced76382831df603b84b4e14e206f425091718cf9"
  }
 },
 "nbformat": 4,
 "nbformat_minor": 2
}