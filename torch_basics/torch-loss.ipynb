{
 "cells": [
  {
   "cell_type": "code",
   "execution_count": 38,
   "metadata": {},
   "outputs": [],
   "source": [
    "import torch\n",
    "import torch.nn as nn\n",
    "import torch.nn.functional as F"
   ]
  },
  {
   "cell_type": "code",
   "execution_count": 39,
   "metadata": {},
   "outputs": [],
   "source": [
    "# x is of size N x C = 3 x 5\n",
    "x = torch.randn(3, 5, requires_grad=True)\n",
    "target=torch.FloatTensor([[0,0,0,1,0],[0,1,0,0,0],[0,0,1,0,0]])"
   ]
  },
  {
   "cell_type": "code",
   "execution_count": 56,
   "metadata": {
    "tags": []
   },
   "outputs": [
    {
     "output_type": "stream",
     "name": "stdout",
     "text": "logits: tensor([[0.2784, 0.2955, 0.3746, 0.4402, 0.6530],\n        [0.6604, 0.4345, 0.9109, 0.3050, 0.6425],\n        [0.3067, 0.7631, 0.7082, 0.4385, 0.3192]], grad_fn=<SigmoidBackward>)\n"
    },
    {
     "output_type": "execute_result",
     "data": {
      "text/plain": "tensor(0.7908, grad_fn=<BinaryCrossEntropyBackward>)"
     },
     "metadata": {},
     "execution_count": 56
    }
   ],
   "source": [
    "logits = F.sigmoid(x)\n",
    "print(f\"logits: {logits}\")\n",
    "bce_loss=nn.BCELoss()\n",
    "bce_loss(logits, target)"
   ]
  },
  {
   "cell_type": "code",
   "execution_count": 57,
   "metadata": {
    "tags": []
   },
   "outputs": [
    {
     "output_type": "stream",
     "name": "stdout",
     "text": "logits: tensor([[-0.9525, -0.8688, -0.5124, -0.2402,  0.6322],\n        [ 0.6651, -0.2633,  2.3245, -0.8237,  0.5864],\n        [-0.8156,  1.1698,  0.8868, -0.2472, -0.7575]], requires_grad=True)\n"
    },
    {
     "output_type": "execute_result",
     "data": {
      "text/plain": "tensor(0.7908, grad_fn=<MeanBackward1>)"
     },
     "metadata": {},
     "execution_count": 57
    }
   ],
   "source": [
    "# logits = F.sigmoid(x)\n",
    "logits = x\n",
    "print(f\"logits: {logits}\")\n",
    "bce_loss_with_logits=nn.BCEWithLogitsLoss() # contain Sigmoid logits\n",
    "bce_loss_with_logits(x, target)"
   ]
  },
  {
   "cell_type": "code",
   "execution_count": 53,
   "metadata": {},
   "outputs": [],
   "source": [
    "# output = F.nll_loss(logits, target)\n",
    "# print(f\"output: {output}\")\n",
    "# output.backward()"
   ]
  },
  {
   "cell_type": "code",
   "execution_count": 58,
   "metadata": {
    "tags": []
   },
   "outputs": [
    {
     "output_type": "stream",
     "name": "stdout",
     "text": "logits: tensor([[0.1740, 0.1770, 0.1915, 0.2045, 0.2530],\n        [0.2098, 0.1674, 0.2696, 0.1471, 0.2061],\n        [0.1606, 0.2535, 0.2400, 0.1832, 0.1626]], grad_fn=<SoftmaxBackward>)\n"
    }
   ],
   "source": [
    "# sigmoid activation then softmax output\n",
    "logits = F.sigmoid(x)\n",
    "logits = F.softmax(logits)\n",
    "print(f\"logits: {logits}\")"
   ]
  },
  {
   "cell_type": "code",
   "execution_count": 59,
   "metadata": {},
   "outputs": [
    {
     "output_type": "execute_result",
     "data": {
      "text/plain": "tensor([1.0000, 1.0000, 1.0000], grad_fn=<SumBackward1>)"
     },
     "metadata": {},
     "execution_count": 59
    }
   ],
   "source": [
    "logits.sum(dim=1)"
   ]
  },
  {
   "cell_type": "code",
   "execution_count": 62,
   "metadata": {},
   "outputs": [
    {
     "output_type": "execute_result",
     "data": {
      "text/plain": "tensor([0.1740, 0.1770, 0.1915, 0.2045, 0.2530], grad_fn=<SelectBackward>)"
     },
     "metadata": {},
     "execution_count": 62
    }
   ],
   "source": [
    "logits[0]"
   ]
  },
  {
   "cell_type": "code",
   "execution_count": 63,
   "metadata": {},
   "outputs": [
    {
     "output_type": "execute_result",
     "data": {
      "text/plain": "tensor([0., 0., 0., 1., 0.])"
     },
     "metadata": {},
     "execution_count": 63
    }
   ],
   "source": [
    "target[0]"
   ]
  },
  {
   "cell_type": "code",
   "execution_count": 61,
   "metadata": {},
   "outputs": [
    {
     "output_type": "execute_result",
     "data": {
      "text/plain": "tensor(0.4955, grad_fn=<BinaryCrossEntropyBackward>)"
     },
     "metadata": {},
     "execution_count": 61
    }
   ],
   "source": [
    "# bce loss with above logits\n",
    "bce_loss=nn.BCELoss()\n",
    "bce_loss(logits[0], target[0])"
   ]
  },
  {
   "cell_type": "code",
   "execution_count": null,
   "metadata": {},
   "outputs": [],
   "source": [
    "# cce loss with above logits\n",
    "cce_loss=nn.CrossEntropyLoss()\n",
    "cce_loss(logits[0], target[0])"
   ]
  }
 ],
 "metadata": {
  "kernelspec": {
   "display_name": "Python 3",
   "language": "python",
   "name": "python3"
  },
  "language_info": {
   "codemirror_mode": {
    "name": "ipython",
    "version": 3
   },
   "file_extension": ".py",
   "mimetype": "text/x-python",
   "name": "python",
   "nbconvert_exporter": "python",
   "pygments_lexer": "ipython3",
   "version": "3.7.4-final"
  }
 },
 "nbformat": 4,
 "nbformat_minor": 1
}