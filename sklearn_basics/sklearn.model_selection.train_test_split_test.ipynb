{
 "cells": [
  {
   "cell_type": "code",
   "execution_count": 13,
   "metadata": {},
   "outputs": [],
   "source": [
    "#!/usr/bin/env python3\n",
    "# -*- coding: utf-8 -*-\n",
    "# @Date    : Jun-01-21 15:11\n",
    "# @Author  : Kan HUANG (kan.huang@connect.ust.hk)\n",
    "# @RefLink : https://scikit-learn.org/stable/modules/generated/sklearn.model_selection.train_test_split.html\n",
    "# @RefLink : https://discuss.pytorch.org/t/how-to-split-dataset-into-test-and-validation-sets/33987/5\n",
    "\n",
    "import numpy as np\n",
    "import torch\n",
    "from torchvision.datasets import ImageFolder\n",
    "from torchvision.transforms import Compose, ToTensor, Resize\n",
    "from torch.utils.data import DataLoader\n",
    "from sklearn.model_selection import train_test_split\n",
    "import matplotlib.pyplot as plt"
   ]
  },
  {
   "cell_type": "markdown",
   "metadata": {},
   "source": [
    "## train_test_split\n",
    "\n",
    "- numpy arrays"
   ]
  },
  {
   "cell_type": "code",
   "execution_count": 3,
   "metadata": {},
   "outputs": [
    {
     "name": "stdout",
     "output_type": "stream",
     "text": [
      "[[0 1]\n",
      " [2 3]\n",
      " [4 5]\n",
      " [6 7]\n",
      " [8 9]]\n",
      "range(0, 5)\n"
     ]
    }
   ],
   "source": [
    "X, y = np.arange(10).reshape((5, 2)), range(5)\n",
    "print(X) # Column first\n",
    "print(y)"
   ]
  },
  {
   "cell_type": "markdown",
   "metadata": {},
   "source": [
    "### 用于生成数据索引"
   ]
  },
  {
   "cell_type": "code",
   "execution_count": 5,
   "metadata": {},
   "outputs": [],
   "source": [
    "num_samples = 50000 # Same as MNIST\n",
    "val_split = 0.2\n",
    "# train_test_split\n",
    "# Input: a list of int\n",
    "# Outputs: train indices, validation indices\n",
    "train_idx, val_idx = train_test_split(list(range(num_samples)), test_size=val_split, shuffle=False)\n"
   ]
  },
  {
   "cell_type": "markdown",
   "metadata": {},
   "source": [
    "#### 结合 PyTorch Datasets 使用"
   ]
  },
  {
   "cell_type": "code",
   "execution_count": 2,
   "metadata": {},
   "outputs": [],
   "source": [
    "def train_val_dataset(dataset, val_split=0.25):\n",
    "    train_idx, val_idx = train_test_split(list(range(len(dataset))), test_size=val_split)\n",
    "    datasets = {}\n",
    "    datasets['train'] = Subset(dataset, train_idx)\n",
    "    datasets['val'] = Subset(dataset, val_idx)\n",
    "    return datasets"
   ]
  },
  {
   "cell_type": "code",
   "execution_count": 12,
   "metadata": {},
   "outputs": [
    {
     "name": "stdout",
     "output_type": "stream",
     "text": [
      "[82, 991, 789, 894, 398, 323, 519, 916, 922, 5]\n"
     ]
    }
   ],
   "source": [
    "len_dataset = 1000\n",
    "val_split = 0.25\n",
    "# 随机的，因此固定random_state\n",
    "random_state = 42\n",
    "train_idx, val_idx = train_test_split(\n",
    "    list(range(len_dataset)), test_size=val_split, random_state=random_state)\n",
    "print(train_idx[:10])  # 只要random_state一致结果就一直\n",
    "\n"
   ]
  },
  {
   "cell_type": "code",
   "execution_count": 17,
   "metadata": {},
   "outputs": [
    {
     "data": {
      "text/plain": [
       "<matplotlib.collections.PathCollection at 0x7ff7c9878110>"
      ]
     },
     "execution_count": 17,
     "metadata": {},
     "output_type": "execute_result"
    },
    {
     "data": {
      "image/png": "[encoded data removed]",
      "text/plain": [
       "<Figure size 432x288 with 1 Axes>"
      ]
     },
     "metadata": {
      "needs_background": "light"
     },
     "output_type": "display_data"
    }
   ],
   "source": [
    "#### 可视化索引序列\n",
    "plt.scatter(list(range(len(train_idx))), sorted(train_idx))\n",
    "# - 稀疏性\n",
    "# - 随机性"
   ]
  },
  {
   "cell_type": "code",
   "execution_count": 19,
   "metadata": {},
   "outputs": [],
   "source": [
    "from torchvision import datasets, transforms\n",
    "kwargs = {'batch_size': 32}\n",
    "\n",
    "# prepare transform\n",
    "transform = transforms.Compose([\n",
    "    transforms.ToTensor(),\n",
    "    transforms.Normalize((0.1307,), (0.3081,)),\n",
    "    transforms.Lambda(lambda x: torch.flatten(x)\n",
    "                        )  # Add for 1D inputs\n",
    "])\n",
    "\n",
    "data_root = os.path.expanduser(\"~/.datasets\")\n",
    "mnist_train = datasets.MNIST(\n",
    "    data_root, train=True, download=True, transform=transform)\n",
    "mnist_test = datasets.MNIST(\n",
    "    data_root, train=False, transform=transform)\n",
    "train_loader = torch.utils.data.DataLoader(mnist_train, **kwargs)\n",
    "test_loader = torch.utils.data.DataLoader(mnist_test, **kwargs)"
   ]
  },
  {
   "cell_type": "code",
   "execution_count": 25,
   "metadata": {},
   "outputs": [
    {
     "data": {
      "text/plain": [
       "tensor([5, 0, 4,  ..., 5, 6, 8])"
      ]
     },
     "execution_count": 25,
     "metadata": {},
     "output_type": "execute_result"
    }
   ],
   "source": [
    "# mnist_train.__dir__()\n",
    "mnist_train.targets"
   ]
  },
  {
   "cell_type": "code",
   "execution_count": 30,
   "metadata": {},
   "outputs": [],
   "source": [
    "from torch.utils.data import Subset\n",
    "from sklearn.model_selection import train_test_split\n",
    "def train_val_dataset(dataset, val_split=0.25, random_state=None):\n",
    "    train_idx, val_idx = train_test_split(list(range(len(dataset))), test_size=val_split, random_state=random_state)\n",
    "    datasets = {}\n",
    "    datasets['train'] = Subset(dataset, train_idx)\n",
    "    datasets['val'] = Subset(dataset, val_idx)\n",
    "    return datasets"
   ]
  },
  {
   "cell_type": "code",
   "execution_count": 32,
   "metadata": {},
   "outputs": [],
   "source": [
    "mnist_train_val = train_val_dataset(mnist_train, random_state=42)\n",
    "train_loader = torch.utils.data.DataLoader(mnist_train_val[\"train\"], **kwargs)\n",
    "valid_loader = torch.utils.data.DataLoader(mnist_train_val[\"val\"], **kwargs)"
   ]
  }
 ],
 "metadata": {
  "interpreter": {
   "hash": "fd47d156357233a90b4b9e1ced76382831df603b84b4e14e206f425091718cf9"
  },
  "kernelspec": {
   "display_name": "Python 3.7.9 64-bit ('torch': conda)",
   "name": "python3"
  },
  "language_info": {
   "codemirror_mode": {
    "name": "ipython",
    "version": 3
   },
   "file_extension": ".py",
   "mimetype": "text/x-python",
   "name": "python",
   "nbconvert_exporter": "python",
   "pygments_lexer": "ipython3",
   "version": "3.7.7"
  },
  "orig_nbformat": 2
 },
 "nbformat": 4,
 "nbformat_minor": 2
}
