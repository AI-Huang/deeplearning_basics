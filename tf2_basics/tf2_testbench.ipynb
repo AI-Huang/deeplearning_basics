{
 "metadata": {
  "language_info": {
   "codemirror_mode": {
    "name": "ipython",
    "version": 3
   },
   "file_extension": ".py",
   "mimetype": "text/x-python",
   "name": "python",
   "nbconvert_exporter": "python",
   "pygments_lexer": "ipython3",
   "version": "3.7.7-final"
  },
  "orig_nbformat": 2,
  "kernelspec": {
   "name": "python3",
   "display_name": "Python 3.7.7 64-bit ('tf2': conda)",
   "metadata": {
    "interpreter": {
     "hash": "6217ec1083430fbb69f0f529f559f9d6a9398dfc34178f068ec9884c7c99515e"
    }
   }
  }
 },
 "nbformat": 4,
 "nbformat_minor": 2,
 "cells": [
  {
   "source": [
    "## TensorFlow Tensor Basics\n",
    "\n",
    "2020.11.6\n",
    "\n",
    "### Reference\n",
    "\n",
    "https://www.tensorflow.org/api_docs/python/tf/Tensor"
   ],
   "cell_type": "markdown",
   "metadata": {}
  },
  {
   "cell_type": "code",
   "execution_count": 19,
   "metadata": {},
   "outputs": [],
   "source": [
    "import numpy as np\n",
    "import tensorflow as tf"
   ]
  },
  {
   "cell_type": "code",
   "execution_count": null,
   "metadata": {},
   "outputs": [],
   "source": [
    "c = tf.constant([[1.0, 2.0, 3.0, 4.0]])\n",
    "c = tf.range(10)\n",
    "print(1 - c)\n",
    "print(c[:2])"
   ]
  },
  {
   "cell_type": "code",
   "execution_count": 2,
   "metadata": {},
   "outputs": [
    {
     "output_type": "stream",
     "name": "stdout",
     "text": [
      "tf.Tensor([False  True  True  True  True  True  True  True  True  True], shape=(10,), dtype=bool)\n"
     ]
    }
   ],
   "source": [
    "y_true = [_ for _ in range(10)]\n",
    "y_true = tf.cast(y_true, tf.bool)  # Equivalent to that threshold=0.5\n",
    "print(y_true)"
   ]
  },
  {
   "cell_type": "code",
   "execution_count": 3,
   "metadata": {},
   "outputs": [],
   "source": [
    "import tensorflow_addons as tfa"
   ]
  },
  {
   "cell_type": "code",
   "execution_count": 4,
   "metadata": {},
   "outputs": [],
   "source": [
    "y_true = tf.constant([[1, 0, 1], [0, 1, 0]], dtype=tf.int32)\n",
    "y_pred = tf.constant([[1, 0, 0], [0, 1, 1]], dtype=tf.int32)"
   ]
  },
  {
   "cell_type": "code",
   "execution_count": 7,
   "metadata": {},
   "outputs": [
    {
     "output_type": "stream",
     "name": "stdout",
     "text": [
      "Confusion matrix: [[[1. 0.]\n  [0. 1.]]\n\n [[1. 0.]\n  [0. 1.]]\n\n [[0. 1.]\n  [1. 0.]]]\n"
     ]
    }
   ],
   "source": [
    "output = tfa.metrics.MultiLabelConfusionMatrix(num_classes=3)\n",
    "output.update_state(y_true, y_pred)\n",
    "result = output.result().numpy()\n",
    "print('Confusion matrix:', result)"
   ]
  },
  {
   "cell_type": "code",
   "execution_count": 10,
   "metadata": {},
   "outputs": [
    {
     "output_type": "execute_result",
     "data": {
      "text/plain": [
       "array([[1., 0.],\n",
       "       [0., 1.]], dtype=float32)"
      ]
     },
     "metadata": {},
     "execution_count": 10
    }
   ],
   "source": [
    "result[0]"
   ]
  },
  {
   "cell_type": "code",
   "execution_count": 18,
   "metadata": {},
   "outputs": [
    {
     "output_type": "execute_result",
     "data": {
      "text/plain": [
       "array([[1, 0],\n",
       "       [1, 0],\n",
       "       [0, 1],\n",
       "       [0, 1]])"
      ]
     },
     "metadata": {},
     "execution_count": 18
    }
   ],
   "source": [
    "y_true = np.asarray([1, 1, 0, 0])\n",
    "y_true = np.vstack((y_true, 1-y_true))  # multi-dim pred array\n",
    "y_true = y_true.T\n",
    "y_true # n, n, p, p"
   ]
  },
  {
   "cell_type": "code",
   "execution_count": 20,
   "metadata": {},
   "outputs": [
    {
     "output_type": "execute_result",
     "data": {
      "text/plain": [
       "array([[1, 0],\n",
       "       [0, 1],\n",
       "       [1, 0],\n",
       "       [1, 0],\n",
       "       [1, 0]])"
      ]
     },
     "metadata": {},
     "execution_count": 20
    }
   ],
   "source": [
    "y_pred = np.asarray([1, 0, 1, 1, 1])  # p, n, p, p, p\n",
    "y_pred = np.vstack((y_pred, 1-y_pred))  # multi-dim pred array\n",
    "y_pred = y_pred.T\n",
    "y_pred # n, n, p, n # tn, tn, tp, fn"
   ]
  },
  {
   "cell_type": "code",
   "execution_count": 21,
   "metadata": {},
   "outputs": [
    {
     "output_type": "execute_result",
     "data": {
      "text/plain": [
       "(5, 2)"
      ]
     },
     "metadata": {},
     "execution_count": 21
    }
   ],
   "source": [
    "y_pred.shape"
   ]
  },
  {
   "cell_type": "code",
   "execution_count": 24,
   "metadata": {},
   "outputs": [
    {
     "output_type": "execute_result",
     "data": {
      "text/plain": [
       "array([1, 0, 1, 1, 1])"
      ]
     },
     "metadata": {},
     "execution_count": 24
    }
   ],
   "source": [
    "class_id = 0\n",
    "y_pred[..., class_id]"
   ]
  },
  {
   "source": [
    "## multi_label"
   ],
   "cell_type": "markdown",
   "metadata": {}
  },
  {
   "source": [
    "## TensorFlow ops"
   ],
   "cell_type": "markdown",
   "metadata": {}
  },
  {
   "cell_type": "code",
   "execution_count": 30,
   "metadata": {},
   "outputs": [],
   "source": [
    "from tensorflow.python.ops import array_ops\n",
    "from tensorflow.python.ops import math_ops"
   ]
  },
  {
   "cell_type": "code",
   "execution_count": 14,
   "metadata": {},
   "outputs": [],
   "source": [
    "y_pred = [[1, 0, 1, 1, 1], [1, 0, 1, 1, 1]]\n",
    "# data_tiles = [1, 1, 1]\n",
    "data_tiles = [1, 1, 1]"
   ]
  },
  {
   "cell_type": "code",
   "execution_count": 22,
   "metadata": {},
   "outputs": [],
   "source": [
    "predictions_extra_dim = array_ops.expand_dims(y_pred, 0)\n",
    "preds_tiled = array_ops.tile(predictions_extra_dim, data_tiles)"
   ]
  },
  {
   "cell_type": "code",
   "execution_count": 23,
   "metadata": {},
   "outputs": [
    {
     "output_type": "execute_result",
     "data": {
      "text/plain": [
       "<tf.Tensor: shape=(1, 5, 2), dtype=int32, numpy=\n",
       "array([[[1, 0],\n",
       "        [0, 1],\n",
       "        [1, 0],\n",
       "        [1, 0],\n",
       "        [1, 0]]])>"
      ]
     },
     "metadata": {},
     "execution_count": 23
    }
   ],
   "source": [
    "predictions_extra_dim"
   ]
  },
  {
   "cell_type": "code",
   "execution_count": 17,
   "metadata": {},
   "outputs": [
    {
     "output_type": "execute_result",
     "data": {
      "text/plain": [
       "<tf.Tensor: shape=(1, 2, 5), dtype=int32, numpy=\n",
       "array([[[1, 0, 1, 1, 1],\n",
       "        [1, 0, 1, 1, 1]]])>"
      ]
     },
     "metadata": {},
     "execution_count": 17
    }
   ],
   "source": [
    "preds_tiled"
   ]
  },
  {
   "cell_type": "code",
   "execution_count": 29,
   "metadata": {},
   "outputs": [
    {
     "output_type": "error",
     "ename": "NameError",
     "evalue": "name 'thresh_label_tile' is not defined",
     "traceback": [
      "\u001b[1;31m---------------------------------------------------------------------------\u001b[0m",
      "\u001b[1;31mNameError\u001b[0m                                 Traceback (most recent call last)",
      "\u001b[1;32m<ipython-input-29-ccec4af72e9a>\u001b[0m in \u001b[0;36m<module>\u001b[1;34m\u001b[0m\n\u001b[0;32m      4\u001b[0m \u001b[1;33m\u001b[0m\u001b[0m\n\u001b[0;32m      5\u001b[0m \u001b[0mthresh_pretile_shape\u001b[0m \u001b[1;33m=\u001b[0m \u001b[1;33m[\u001b[0m\u001b[0mnum_thresholds\u001b[0m\u001b[1;33m,\u001b[0m \u001b[1;36m1\u001b[0m\u001b[1;33m,\u001b[0m \u001b[1;33m-\u001b[0m\u001b[1;36m1\u001b[0m\u001b[1;33m]\u001b[0m\u001b[1;33m\u001b[0m\u001b[1;33m\u001b[0m\u001b[0m\n\u001b[1;32m----> 6\u001b[1;33m \u001b[0mthresh_tiles\u001b[0m \u001b[1;33m=\u001b[0m \u001b[1;33m[\u001b[0m\u001b[1;36m1\u001b[0m\u001b[1;33m,\u001b[0m \u001b[0mnum_predictions\u001b[0m\u001b[1;33m,\u001b[0m \u001b[0mthresh_label_tile\u001b[0m\u001b[1;33m]\u001b[0m\u001b[1;33m\u001b[0m\u001b[1;33m\u001b[0m\u001b[0m\n\u001b[0m\u001b[0;32m      7\u001b[0m \u001b[0mdata_tiles\u001b[0m \u001b[1;33m=\u001b[0m \u001b[1;33m[\u001b[0m\u001b[0mnum_thresholds\u001b[0m\u001b[1;33m,\u001b[0m \u001b[1;36m1\u001b[0m\u001b[1;33m,\u001b[0m \u001b[1;36m1\u001b[0m\u001b[1;33m]\u001b[0m\u001b[1;33m\u001b[0m\u001b[1;33m\u001b[0m\u001b[0m\n",
      "\u001b[1;31mNameError\u001b[0m: name 'thresh_label_tile' is not defined"
     ]
    }
   ],
   "source": [
    "num_thresholds = 1\n",
    "pred_shape = array_ops.shape(y_pred)\n",
    "num_predictions = pred_shape[0]\n",
    "\n",
    "thresh_pretile_shape = [num_thresholds, 1, -1]\n",
    "thresh_tiles = [1, num_predictions, thresh_label_tile]\n",
    "data_tiles = [num_thresholds, 1, 1]"
   ]
  },
  {
   "cell_type": "code",
   "execution_count": 26,
   "metadata": {},
   "outputs": [
    {
     "output_type": "error",
     "ename": "NameError",
     "evalue": "name 'thresh_tiled' is not defined",
     "traceback": [
      "\u001b[1;31m---------------------------------------------------------------------------\u001b[0m",
      "\u001b[1;31mNameError\u001b[0m                                 Traceback (most recent call last)",
      "\u001b[1;32m<ipython-input-26-775b2d86951b>\u001b[0m in \u001b[0;36m<module>\u001b[1;34m\u001b[0m\n\u001b[1;32m----> 1\u001b[1;33m \u001b[0mpred_is_pos\u001b[0m \u001b[1;33m=\u001b[0m \u001b[0mmath_ops\u001b[0m\u001b[1;33m.\u001b[0m\u001b[0mgreater\u001b[0m\u001b[1;33m(\u001b[0m\u001b[0mpreds_tiled\u001b[0m\u001b[1;33m,\u001b[0m \u001b[0mthresh_tiled\u001b[0m\u001b[1;33m)\u001b[0m\u001b[1;33m\u001b[0m\u001b[1;33m\u001b[0m\u001b[0m\n\u001b[0m",
      "\u001b[1;31mNameError\u001b[0m: name 'thresh_tiled' is not defined"
     ]
    }
   ],
   "source": [
    "pred_is_pos = math_ops.greater(preds_tiled, thresh_tiled)"
   ]
  },
  {
   "cell_type": "code",
   "execution_count": null,
   "metadata": {},
   "outputs": [],
   "source": []
  }
 ]
}