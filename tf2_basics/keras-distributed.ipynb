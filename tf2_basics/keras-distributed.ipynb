{
 "cells": [
  {
   "cell_type": "code",
   "execution_count": 1,
   "metadata": {},
   "outputs": [],
   "source": [
    "#RefLink: https://www.tensorflow.org/tutorials/distribute/keras"
   ]
  },
  {
   "cell_type": "code",
   "execution_count": 2,
   "metadata": {},
   "outputs": [],
   "source": [
    "# Import TensorFlow and TensorFlow Datasets\n",
    "import tensorflow_datasets as tfds\n",
    "import tensorflow as tf\n",
    "from tensorflow import keras\n",
    "tfds.disable_progress_bar()\n",
    "\n",
    "import os"
   ]
  },
  {
   "cell_type": "code",
   "execution_count": 3,
   "metadata": {},
   "outputs": [],
   "source": [
    "import tensorflow as tf\n"
   ]
  },
  {
   "cell_type": "code",
   "execution_count": 4,
   "metadata": {
    "tags": []
   },
   "outputs": [
    {
     "output_type": "stream",
     "name": "stdout",
     "text": "TensorFlow version: 2.1.0.\nKeras version: 2.2.4-tf.\ntensorflow_datasets version: 1.2.0.\nTrue\n"
    }
   ],
   "source": [
    "print(f\"TensorFlow version: {tf.__version__}.\")  # Keras backend\n",
    "print(f\"Keras version: {keras.__version__}.\")\n",
    "print(f\"tensorflow_datasets version: {tfds.__version__}.\")\n",
    "print(tf.test.is_built_with_cuda())"
   ]
  },
  {
   "cell_type": "code",
   "execution_count": 5,
   "metadata": {
    "tags": []
   },
   "outputs": [
    {
     "output_type": "stream",
     "name": "stderr",
     "text": "WARNING:absl:Warning: Setting shuffle_files=True because split=TRAIN and shuffle_files=None. This behavior will be deprecated on 2019-08-06, at which point shuffle_files=False will be the default for all splits.\n"
    }
   ],
   "source": [
    "datasets, info = tfds.load(name='mnist', with_info=True, as_supervised=True)\n",
    "mnist_train, mnist_test = datasets['train'], datasets['test']"
   ]
  },
  {
   "cell_type": "code",
   "execution_count": 6,
   "metadata": {},
   "outputs": [
    {
     "output_type": "execute_result",
     "data": {
      "text/plain": "<_OptionsDataset shapes: ((28, 28, 1), ()), types: (tf.uint8, tf.int64)>"
     },
     "metadata": {},
     "execution_count": 6
    }
   ],
   "source": [
    "mnist_train"
   ]
  },
  {
   "cell_type": "code",
   "execution_count": 7,
   "metadata": {
    "tags": []
   },
   "outputs": [
    {
     "output_type": "stream",
     "name": "stdout",
     "text": "INFO:tensorflow:Using MirroredStrategy with devices ('/job:localhost/replica:0/task:0/device:GPU:0',)\nINFO:tensorflow:Using MirroredStrategy with devices ('/job:localhost/replica:0/task:0/device:GPU:0',)\n"
    }
   ],
   "source": [
    "strategy = tf.distribute.MirroredStrategy()"
   ]
  },
  {
   "cell_type": "code",
   "execution_count": 8,
   "metadata": {
    "tags": []
   },
   "outputs": [
    {
     "output_type": "stream",
     "name": "stdout",
     "text": "Number of devices: 1\n"
    }
   ],
   "source": [
    "print('Number of devices: {}'.format(strategy.num_replicas_in_sync))"
   ]
  },
  {
   "cell_type": "markdown",
   "metadata": {},
   "source": [
    "## Setup input pipeline"
   ]
  },
  {
   "cell_type": "code",
   "execution_count": 9,
   "metadata": {},
   "outputs": [],
   "source": [
    "# You can also do info.splits.total_num_examples to get the total\n",
    "# number of examples in the dataset.\n",
    "\n",
    "num_train_examples = info.splits['train'].num_examples\n",
    "num_test_examples = info.splits['test'].num_examples\n",
    "\n",
    "BUFFER_SIZE = 10000\n",
    "\n",
    "BATCH_SIZE_PER_REPLICA = 64\n",
    "BATCH_SIZE = BATCH_SIZE_PER_REPLICA * strategy.num_replicas_in_sync"
   ]
  },
  {
   "cell_type": "code",
   "execution_count": 10,
   "metadata": {},
   "outputs": [
    {
     "output_type": "execute_result",
     "data": {
      "text/plain": "0"
     },
     "metadata": {},
     "execution_count": 10
    }
   ],
   "source": [
    "len(tf.config.list_physical_devices('XLA_GPU'))"
   ]
  },
  {
   "cell_type": "markdown",
   "metadata": {},
   "source": [
    "Pixel values, which are 0-255, have to be normalized to the 0-1 range. Define this scale in a function."
   ]
  },
  {
   "cell_type": "code",
   "execution_count": 11,
   "metadata": {},
   "outputs": [],
   "source": [
    "def scale(image, label):\n",
    "  image = tf.cast(image, tf.float32)\n",
    "  image /= 255\n",
    "\n",
    "  return image, label"
   ]
  },
  {
   "cell_type": "markdown",
   "metadata": {},
   "source": [
    "Apply this function to the training and test data, shuffle the training data, and batch it for training. Notice we are also keeping an in-memory cache of the training data to improve performance."
   ]
  },
  {
   "cell_type": "code",
   "execution_count": 12,
   "metadata": {},
   "outputs": [],
   "source": [
    "train_dataset = mnist_train.map(scale).cache().shuffle(BUFFER_SIZE).batch(BATCH_SIZE)\n",
    "eval_dataset = mnist_test.map(scale).batch(BATCH_SIZE)"
   ]
  },
  {
   "cell_type": "code",
   "execution_count": 13,
   "metadata": {},
   "outputs": [
    {
     "output_type": "execute_result",
     "data": {
      "text/plain": "<BatchDataset shapes: ((None, 28, 28, 1), (None,)), types: (tf.float32, tf.int64)>"
     },
     "metadata": {},
     "execution_count": 13
    }
   ],
   "source": [
    "train_dataset"
   ]
  },
  {
   "cell_type": "markdown",
   "metadata": {},
   "source": [
    "## Create the model"
   ]
  },
  {
   "cell_type": "code",
   "execution_count": 14,
   "metadata": {
    "tags": []
   },
   "outputs": [
    {
     "output_type": "stream",
     "name": "stdout",
     "text": "INFO:tensorflow:Reduce to /job:localhost/replica:0/task:0/device:CPU:0 then broadcast to ('/job:localhost/replica:0/task:0/device:CPU:0',).\nINFO:tensorflow:Reduce to /job:localhost/replica:0/task:0/device:CPU:0 then broadcast to ('/job:localhost/replica:0/task:0/device:CPU:0',).\nINFO:tensorflow:Reduce to /job:localhost/replica:0/task:0/device:CPU:0 then broadcast to ('/job:localhost/replica:0/task:0/device:CPU:0',).\nINFO:tensorflow:Reduce to /job:localhost/replica:0/task:0/device:CPU:0 then broadcast to ('/job:localhost/replica:0/task:0/device:CPU:0',).\n"
    }
   ],
   "source": [
    "with strategy.scope():\n",
    "  model = tf.keras.Sequential([\n",
    "      tf.keras.layers.Conv2D(32, 3, activation='relu', input_shape=(28, 28, 1)),\n",
    "      tf.keras.layers.MaxPooling2D(),\n",
    "      tf.keras.layers.Flatten(),\n",
    "      tf.keras.layers.Dense(64, activation='relu'),\n",
    "      tf.keras.layers.Dense(10)\n",
    "  ])\n",
    "\n",
    "  model.compile(loss=tf.keras.losses.SparseCategoricalCrossentropy(from_logits=True),\n",
    "                optimizer=tf.keras.optimizers.Adam(),\n",
    "                metrics=['accuracy'])"
   ]
  },
  {
   "cell_type": "markdown",
   "metadata": {},
   "source": [
    "## Define the callbacks"
   ]
  },
  {
   "cell_type": "code",
   "execution_count": 21,
   "metadata": {},
   "outputs": [],
   "source": [
    "# Define the checkpoint directory to store the checkpoints\n",
    "\n",
    "checkpoint_dir = './training_checkpoints'\n",
    "# Name of the checkpoint files\n",
    "checkpoint_prefix = os.path.join(checkpoint_dir, \"ckpt_{epoch}\")\n",
    "\n",
    "def decay(epoch):\n",
    "  if epoch < 3:\n",
    "    return 1e-3\n",
    "  elif epoch >= 3 and epoch < 7:\n",
    "    return 1e-4\n",
    "  else:\n",
    "    return 1e-5\n",
    "\n",
    "# Callback for printing the LR at the end of each epoch.\n",
    "class PrintLR(tf.keras.callbacks.Callback):\n",
    "  def on_epoch_end(self, epoch, logs=None):\n",
    "    print('\\nLearning rate for epoch {} is {}'.format(epoch + 1,\n",
    "                                                      model.optimizer.lr.numpy()))\n",
    "log_dir = os.path.join(\".\", \"logs\")\n",
    "callbacks = [\n",
    "    # tf.keras.callbacks.TensorBoard(log_dir=log_dir),\n",
    "    tf.keras.callbacks.ModelCheckpoint(filepath=checkpoint_prefix,\n",
    "                                       save_weights_only=True),\n",
    "    tf.keras.callbacks.LearningRateScheduler(decay),\n",
    "    PrintLR()\n",
    "]"
   ]
  },
  {
   "cell_type": "markdown",
   "metadata": {},
   "source": [
    "## Train and evaluate"
   ]
  },
  {
   "cell_type": "code",
   "execution_count": 22,
   "metadata": {
    "tags": []
   },
   "outputs": [
    {
     "output_type": "stream",
     "name": "stdout",
     "text": "Epoch 1/12\n    938/Unknown - 19s 20ms/step - loss: 0.1962 - accuracy: 0.9439\nLearning rate for epoch 1 is 0.0010000000474974513\n938/938 [==============================] - 19s 21ms/step - loss: 0.1962 - accuracy: 0.9439\nEpoch 2/12\n934/938 [============================>.] - ETA: 0s - loss: 0.0683 - accuracy: 0.9803\nLearning rate for epoch 2 is 0.0010000000474974513\n938/938 [==============================] - 8s 9ms/step - loss: 0.0683 - accuracy: 0.9803\nEpoch 3/12\n935/938 [============================>.] - ETA: 0s - loss: 0.0485 - accuracy: 0.9858\nLearning rate for epoch 3 is 0.0010000000474974513\n938/938 [==============================] - 11s 11ms/step - loss: 0.0486 - accuracy: 0.9858\nEpoch 4/12\n937/938 [============================>.] - ETA: 0s - loss: 0.0272 - accuracy: 0.9924\nLearning rate for epoch 4 is 9.999999747378752e-05\n938/938 [==============================] - 8s 8ms/step - loss: 0.0271 - accuracy: 0.9924\nEpoch 5/12\n931/938 [============================>.] - ETA: 0s - loss: 0.0239 - accuracy: 0.9937\nLearning rate for epoch 5 is 9.999999747378752e-05\n938/938 [==============================] - 8s 9ms/step - loss: 0.0238 - accuracy: 0.9937\nEpoch 6/12\n936/938 [============================>.] - ETA: 0s - loss: 0.0218 - accuracy: 0.9944\nLearning rate for epoch 6 is 9.999999747378752e-05\n938/938 [==============================] - 10s 11ms/step - loss: 0.0219 - accuracy: 0.9944\nEpoch 7/12\n932/938 [============================>.] - ETA: 0s - loss: 0.0202 - accuracy: 0.9948\nLearning rate for epoch 7 is 9.999999747378752e-05\n938/938 [==============================] - 8s 9ms/step - loss: 0.0201 - accuracy: 0.9948\nEpoch 8/12\n934/938 [============================>.] - ETA: 0s - loss: 0.0176 - accuracy: 0.9960\nLearning rate for epoch 8 is 9.999999747378752e-06\n938/938 [==============================] - 9s 9ms/step - loss: 0.0176 - accuracy: 0.9961\nEpoch 9/12\n933/938 [============================>.] - ETA: 0s - loss: 0.0173 - accuracy: 0.9961\nLearning rate for epoch 9 is 9.999999747378752e-06\n938/938 [==============================] - 8s 9ms/step - loss: 0.0172 - accuracy: 0.9961\nEpoch 10/12\n933/938 [============================>.] - ETA: 0s - loss: 0.0171 - accuracy: 0.9962\nLearning rate for epoch 10 is 9.999999747378752e-06\n938/938 [==============================] - 9s 10ms/step - loss: 0.0171 - accuracy: 0.9962\nEpoch 11/12\n937/938 [============================>.] - ETA: 0s - loss: 0.0169 - accuracy: 0.9963\nLearning rate for epoch 11 is 9.999999747378752e-06\n938/938 [==============================] - 8s 9ms/step - loss: 0.0169 - accuracy: 0.9963\nEpoch 12/12\n937/938 [============================>.] - ETA: 0s - loss: 0.0167 - accuracy: 0.9964\nLearning rate for epoch 12 is 9.999999747378752e-06\n938/938 [==============================] - 17s 18ms/step - loss: 0.0167 - accuracy: 0.9964\n"
    },
    {
     "output_type": "execute_result",
     "data": {
      "text/plain": "<tensorflow.python.keras.callbacks.History at 0x18cd6400388>"
     },
     "metadata": {},
     "execution_count": 22
    }
   ],
   "source": [
    "model.fit(train_dataset, epochs=12, callbacks=callbacks)"
   ]
  },
  {
   "cell_type": "code",
   "execution_count": null,
   "metadata": {},
   "outputs": [],
   "source": []
  }
 ],
 "metadata": {
  "kernelspec": {
   "display_name": "Python 3.7.7 64-bit ('tf2': conda)",
   "language": "python",
   "name": "python_defaultSpec_1597234831935"
  },
  "language_info": {
   "codemirror_mode": {
    "name": "ipython",
    "version": 3
   },
   "file_extension": ".py",
   "mimetype": "text/x-python",
   "name": "python",
   "nbconvert_exporter": "python",
   "pygments_lexer": "ipython3",
   "version": "3.7.7-final"
  }
 },
 "nbformat": 4,
 "nbformat_minor": 4
}