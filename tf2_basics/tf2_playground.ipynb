{
 "metadata": {
  "language_info": {
   "codemirror_mode": {
    "name": "ipython",
    "version": 3
   },
   "file_extension": ".py",
   "mimetype": "text/x-python",
   "name": "python",
   "nbconvert_exporter": "python",
   "pygments_lexer": "ipython3",
   "version": "3.7.7-final"
  },
  "orig_nbformat": 2,
  "kernelspec": {
   "name": "python3",
   "display_name": "Python 3"
  }
 },
 "nbformat": 4,
 "nbformat_minor": 2,
 "cells": [
  {
   "source": [
    "## TensorFlow Playground\n",
    "\n",
    "2020.11.24"
   ],
   "cell_type": "markdown",
   "metadata": {}
  },
  {
   "cell_type": "code",
   "execution_count": 60,
   "metadata": {},
   "outputs": [],
   "source": [
    "import numpy as np\n",
    "import tensorflow as tf\n",
    "from tensorflow.python.ops import clip_ops\n",
    "from tensorflow.python.ops import math_ops\n",
    "from tensorflow.python.framework import constant_op\n",
    "from tensorflow.python.keras import backend_config\n",
    "epsilon = backend_config.epsilon"
   ]
  },
  {
   "cell_type": "code",
   "execution_count": 29,
   "metadata": {},
   "outputs": [],
   "source": []
  },
  {
   "cell_type": "code",
   "execution_count": 51,
   "metadata": {},
   "outputs": [],
   "source": [
    "e = epsilon()"
   ]
  },
  {
   "cell_type": "code",
   "execution_count": 52,
   "metadata": {},
   "outputs": [
    {
     "output_type": "stream",
     "name": "stdout",
     "text": [
      "0.000000100000000\n"
     ]
    }
   ],
   "source": [
    "print(\"%.15f\" % e)"
   ]
  },
  {
   "cell_type": "code",
   "execution_count": 53,
   "metadata": {},
   "outputs": [
    {
     "output_type": "stream",
     "name": "stdout",
     "text": [
      "0.000000119209290\n"
     ]
    }
   ],
   "source": [
    "print(\"%.15f\" % pow(2, -23))"
   ]
  },
  {
   "cell_type": "code",
   "execution_count": 55,
   "metadata": {},
   "outputs": [],
   "source": [
    "def binary_cross_entropy(y_true, y_pred):\n",
    "    y_true = tf.cast(y_true, dtype=tf.float32)\n",
    "    y_pred = tf.cast(y_pred, dtype=tf.float32)\n",
    "\n",
    "    epsilon_ = constant_op.constant(epsilon(), dtype=output.dtype.base_dtype)\n",
    "    # or\n",
    "    # from tensorflow.python.framework import ops\n",
    "    # target = ops.convert_to_tensor_v2(target)\n",
    "    # output = ops.convert_to_tensor_v2(output)\n",
    "\n",
    "    bce = - y_true * math_ops.log(y_pred)\n",
    "    bce += - (1-y_true) * math_ops.log(1-y_pred)\n",
    "    return bce"
   ]
  },
  {
   "cell_type": "code",
   "execution_count": 3,
   "metadata": {},
   "outputs": [],
   "source": [
    "def binary_cross_entropy_np(y_true, y_pred):\n",
    "    bce = - y_true * np.log(y_pred)\n",
    "    bce += - (1-y_true) * np.log(1-y_pred)\n",
    "    return bce"
   ]
  },
  {
   "cell_type": "code",
   "execution_count": 4,
   "metadata": {},
   "outputs": [
    {
     "output_type": "execute_result",
     "data": {
      "text/plain": [
       "<tf.Tensor: shape=(), dtype=int32, numpy=8>"
      ]
     },
     "metadata": {},
     "execution_count": 4
    }
   ],
   "source": [
    "tf.pow(2, 3)"
   ]
  },
  {
   "cell_type": "code",
   "execution_count": 5,
   "metadata": {},
   "outputs": [
    {
     "output_type": "execute_result",
     "data": {
      "text/plain": [
       "<tf.Tensor: shape=(), dtype=int32, numpy=1>"
      ]
     },
     "metadata": {},
     "execution_count": 5
    }
   ],
   "source": [
    "tf.pow(0, 0)"
   ]
  },
  {
   "cell_type": "code",
   "execution_count": 6,
   "metadata": {},
   "outputs": [],
   "source": [
    "y_true = np.asarray([1., 0.])\n",
    "y_pred = np.asarray([0.001, 0.999])\n",
    "cross_entropy = - y_true * math_ops.log(y_pred)"
   ]
  },
  {
   "cell_type": "code",
   "execution_count": 73,
   "metadata": {},
   "outputs": [],
   "source": [
    "positive_label_mask = tf.equal(y_true, 1.0)"
   ]
  },
  {
   "cell_type": "code",
   "execution_count": 74,
   "metadata": {},
   "outputs": [
    {
     "output_type": "execute_result",
     "data": {
      "text/plain": [
       "<tf.Tensor: shape=(2,), dtype=bool, numpy=array([ True, False])>"
      ]
     },
     "metadata": {},
     "execution_count": 74
    }
   ],
   "source": [
    "positive_label_mask"
   ]
  },
  {
   "cell_type": "code",
   "execution_count": null,
   "metadata": {},
   "outputs": [],
   "source": [
    "y_true = np.asarray([1., 0.])"
   ]
  },
  {
   "cell_type": "code",
   "execution_count": 84,
   "metadata": {},
   "outputs": [
    {
     "output_type": "execute_result",
     "data": {
      "text/plain": [
       "<tf.Tensor: shape=(2, 2), dtype=float32, numpy=\n",
       "array([[1.000000e-07, 9.999999e-01],\n",
       "       [1.000000e-07, 9.999999e-01]], dtype=float32)>"
      ]
     },
     "metadata": {},
     "execution_count": 84
    }
   ],
   "source": [
    "y_pred = np.asarray([[0., 1.], [0., 1.]])\n",
    "y_pred = tf.cast(y_pred, dtype=tf.float32)\n",
    "epsilon_ = constant_op.constant(epsilon(), dtype=y_pred.dtype.base_dtype)\n",
    "y_pred_ones_mask = tf.equal(y_pred, 1.)\n",
    "y_pred_zeros_mask = tf.equal(y_pred, 0.)\n",
    "y_pred = tf.where(y_pred_ones_mask, clip_ops.clip_by_value(y_pred, epsilon_, 1. - epsilon_), y_pred)\n",
    "y_pred = tf.where(y_pred_zeros_mask, clip_ops.clip_by_value(y_pred, epsilon_, 1. - epsilon_), y_pred)\n",
    "y_pred"
   ]
  },
  {
   "cell_type": "code",
   "execution_count": 77,
   "metadata": {},
   "outputs": [
    {
     "output_type": "execute_result",
     "data": {
      "text/plain": [
       "<tf.Tensor: shape=(2,), dtype=float32, numpy=array([1.000000e-07, 9.999999e-01], dtype=float32)>"
      ]
     },
     "metadata": {},
     "execution_count": 77
    }
   ],
   "source": [
    "\n",
    "\n",
    "y_true = tf.cast(y_true, dtype=tf.float32)\n",
    "y_pred = tf.cast(y_pred, dtype=tf.float32)\n",
    "epsilon_ = constant_op.constant(epsilon(), dtype=y_pred.dtype.base_dtype)\n",
    "y_pred = clip_ops.clip_by_value(y_pred, epsilon_, 1. - epsilon_)\n",
    "y_pred"
   ]
  },
  {
   "cell_type": "code",
   "execution_count": 75,
   "metadata": {},
   "outputs": [],
   "source": []
  },
  {
   "cell_type": "code",
   "execution_count": 67,
   "metadata": {},
   "outputs": [
    {
     "output_type": "execute_result",
     "data": {
      "text/plain": [
       "<tf.Tensor: shape=(2,), dtype=float32, numpy=array([16.118095, 15.942385], dtype=float32)>"
      ]
     },
     "metadata": {},
     "execution_count": 67
    }
   ],
   "source": [
    "binary_cross_entropy = - y_true * math_ops.log(y_pred)\n",
    "binary_cross_entropy += - (1-y_true) * math_ops.log(1-y_pred)\n",
    "binary_cross_entropy"
   ]
  },
  {
   "cell_type": "code",
   "execution_count": 68,
   "metadata": {},
   "outputs": [
    {
     "output_type": "execute_result",
     "data": {
      "text/plain": [
       "<tf.Tensor: shape=(2,), dtype=float32, numpy=array([16.118095,  0.      ], dtype=float32)>"
      ]
     },
     "metadata": {},
     "execution_count": 68
    }
   ],
   "source": [
    "binary_cross_entropy = - y_true * math_ops.log(y_pred)\n",
    "binary_cross_entropy"
   ]
  },
  {
   "cell_type": "code",
   "execution_count": 70,
   "metadata": {},
   "outputs": [
    {
     "output_type": "execute_result",
     "data": {
      "text/plain": [
       "<tf.Tensor: shape=(2,), dtype=float32, numpy=array([ 0.      , 15.942385], dtype=float32)>"
      ]
     },
     "metadata": {},
     "execution_count": 70
    }
   ],
   "source": [
    "binary_cross_entropy = - (1-y_true) * math_ops.log(1-y_pred)\n",
    "binary_cross_entropy"
   ]
  },
  {
   "cell_type": "code",
   "execution_count": 72,
   "metadata": {},
   "outputs": [
    {
     "output_type": "execute_result",
     "data": {
      "text/plain": [
       "<tf.Tensor: shape=(2,), dtype=float32, numpy=array([-1.6118095e+01, -1.1920930e-07], dtype=float32)>"
      ]
     },
     "metadata": {},
     "execution_count": 72
    }
   ],
   "source": [
    "math_ops.log(y_pred)"
   ]
  },
  {
   "cell_type": "code",
   "execution_count": 71,
   "metadata": {},
   "outputs": [
    {
     "output_type": "execute_result",
     "data": {
      "text/plain": [
       "<tf.Tensor: shape=(2,), dtype=float32, numpy=array([-1.1920930e-07, -1.5942385e+01], dtype=float32)>"
      ]
     },
     "metadata": {},
     "execution_count": 71
    }
   ],
   "source": [
    "math_ops.log(1-y_pred)"
   ]
  },
  {
   "cell_type": "code",
   "execution_count": 26,
   "metadata": {},
   "outputs": [
    {
     "output_type": "execute_result",
     "data": {
      "text/plain": [
       "<tf.Tensor: shape=(), dtype=float64, numpy=nan>"
      ]
     },
     "metadata": {},
     "execution_count": 26
    }
   ],
   "source": [
    "binary_cross_entropy[0] * 0"
   ]
  },
  {
   "cell_type": "code",
   "execution_count": 11,
   "metadata": {},
   "outputs": [
    {
     "output_type": "execute_result",
     "data": {
      "text/plain": [
       "<tf.Tensor: shape=(2,), dtype=float64, numpy=array([0.001, 0.001])>"
      ]
     },
     "metadata": {},
     "execution_count": 11
    }
   ],
   "source": [
    "probs_gt = tf.where(positive_label_mask, y_pred, 1.0 - y_pred)\n",
    "probs_gt"
   ]
  },
  {
   "cell_type": "code",
   "execution_count": 12,
   "metadata": {},
   "outputs": [
    {
     "output_type": "execute_result",
     "data": {
      "text/plain": [
       "array([6.90775528, 6.90775528])"
      ]
     },
     "metadata": {},
     "execution_count": 12
    }
   ],
   "source": [
    "binary_cross_entropy_np(y_true, y_pred)"
   ]
  },
  {
   "cell_type": "code",
   "execution_count": 13,
   "metadata": {},
   "outputs": [],
   "source": [
    "alpha = 0.99\n",
    "gamma = 0"
   ]
  },
  {
   "cell_type": "code",
   "execution_count": 14,
   "metadata": {},
   "outputs": [],
   "source": [
    "modulator = tf.pow(1.0 - probs_gt, gamma)\n",
    "loss = modulator * binary_cross_entropy\n",
    "weighted_loss = tf.where(positive_label_mask, alpha * loss, (1.0-alpha) * loss)"
   ]
  },
  {
   "cell_type": "code",
   "execution_count": 15,
   "metadata": {},
   "outputs": [
    {
     "output_type": "execute_result",
     "data": {
      "text/plain": [
       "<tf.Tensor: shape=(2,), dtype=float64, numpy=array([6.83867773, 0.06907755])>"
      ]
     },
     "metadata": {},
     "execution_count": 15
    }
   ],
   "source": [
    "weighted_loss"
   ]
  },
  {
   "cell_type": "code",
   "execution_count": null,
   "metadata": {},
   "outputs": [],
   "source": []
  }
 ]
}